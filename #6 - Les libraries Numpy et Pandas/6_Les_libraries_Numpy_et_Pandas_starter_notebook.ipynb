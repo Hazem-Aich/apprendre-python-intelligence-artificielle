{
 "cells": [
  {
   "cell_type": "markdown",
   "metadata": {
    "colab_type": "text",
    "id": "smPU7h6k-Sk0"
   },
   "source": []
  },
  {
   "cell_type": "markdown",
   "metadata": {
    "colab_type": "text",
    "id": "LjvCBOom-Jyp"
   },
   "source": [
    "# https://colab.research.google.com/"
   ]
  },
  {
   "cell_type": "markdown",
   "metadata": {
    "colab_type": "text",
    "id": "TPOiWw95-McC"
   },
   "source": [
    "# Apprendre à coder en Python pour l'Intelligence Artificielle\n"
   ]
  },
  {
   "cell_type": "markdown",
   "metadata": {
    "colab_type": "text",
    "id": "Ff2AwdVl-TkX"
   },
   "source": [
    "# Numpy\n",
    "\n",
    "Librarie pour calculs sceintifique en Python.\n",
    "\n",
    "<a href=\"https://numpy.org/devdocs/\" target=\"_blank\" >Documentation  </a>\n",
    "\n",
    "<a href=\"https://numpy.org/\" target=\"_blank\" ><img  src=\"https://upload.wikimedia.org/wikipedia/commons/thumb/1/1a/NumPy_logo.svg/1200px-NumPy_logo.svg.png\" width=\"400\" height=\"auto\"/></a>"
   ]
  },
  {
   "cell_type": "code",
   "execution_count": 0,
   "metadata": {
    "colab": {},
    "colab_type": "code",
    "id": "j2AAPCmn_HIu"
   },
   "outputs": [],
   "source": [
    "#Créer un array\n",
    "#Array , multiple elements and axes (ie.ligne, colonne)\n",
    "import numpy as np\n",
    "#np array (nb : possible de créer des nombres complexes dtype=complex)\n",
    "#np.arange(n) #créer un array de n elements et 1axes\n",
    "#np.zeros(i,j) Créer un array de shape ixj rempli de 0\n",
    "#np.ones(i,j) Créer un array de shape ixj rempli de 1\n",
    "#np.eye(i,j) créer une matrice identité de dimension i,j\n",
    "#np.random.rand(n) créer un array de dimension 1 aléatoire:\n",
    "#np.random.random(size=(i,j)) créer un array de dimension i,j random\n",
    "\n"
   ]
  },
  {
   "cell_type": "code",
   "execution_count": 0,
   "metadata": {
    "colab": {},
    "colab_type": "code",
    "id": "9j7m7NIU_HOB"
   },
   "outputs": [],
   "source": [
    "#np.arange(n).reshape(i, j) reformate l'array en array de i element et j axes\n"
   ]
  },
  {
   "cell_type": "code",
   "execution_count": 0,
   "metadata": {
    "colab": {},
    "colab_type": "code",
    "id": "SaKUnY0AC3q_"
   },
   "outputs": [],
   "source": [
    "#indexing\n",
    "#Marche de la même facon que les listes pour un array de dimension 1\n",
    "# en multidimension un index est représenté par un tuple array[(i1:j1),(i2:j2)] (i1,j1) = lignes, (i2,j2) = colonnes\n",
    "\n"
   ]
  },
  {
   "cell_type": "code",
   "execution_count": 0,
   "metadata": {
    "colab": {},
    "colab_type": "code",
    "id": "W7EEhS9hAgcZ"
   },
   "outputs": [],
   "source": [
    "#np.shape, np.ndim, np.size\n"
   ]
  },
  {
   "cell_type": "code",
   "execution_count": 0,
   "metadata": {
    "colab": {},
    "colab_type": "code",
    "id": "N9-XLa2WBGvn"
   },
   "outputs": [],
   "source": [
    "#fonctions mathématique np.cos, np.log, np.exp, np.sqrt etc...\n"
   ]
  },
  {
   "cell_type": "code",
   "execution_count": 0,
   "metadata": {
    "colab": {},
    "colab_type": "code",
    "id": "JLs5C3AeCVEi"
   },
   "outputs": [],
   "source": [
    "#fonctions utiles np.sum , np.min, np.max, np.mean"
   ]
  },
  {
   "cell_type": "markdown",
   "metadata": {
    "colab_type": "text",
    "id": "P-DleBDPBhfX"
   },
   "source": [
    "<a href='https://fr.wikipedia.org/wiki/Matrice_(math%C3%A9matiques)'>  Les matrices </a>\n",
    "\n",
    "<a href='https://fr.wikipedia.org/wiki/Produit_matriciel'> Calcul matriciel (Article Wikipedia) </a>\n",
    "\n",
    "<img  src=\"https://wikimedia.org/api/rest_v1/media/math/render/svg/840716c2745c63bd10c38a0b5ecac966faf0b1ff\" width=\"400\" height=\"auto\"/>\n",
    "<img  src=\"https://upload.wikimedia.org/wikipedia/commons/thumb/1/11/Matrix_multiplication_diagram.svg/188px-Matrix_multiplication_diagram.svg.png\n",
    "\" width=\"100\" height=\"auto\"/>\n"
   ]
  },
  {
   "cell_type": "code",
   "execution_count": 0,
   "metadata": {
    "colab": {},
    "colab_type": "code",
    "id": "8MRnY4jpB3I-"
   },
   "outputs": [],
   "source": [
    "# produit elements par element *\n",
    "\n"
   ]
  },
  {
   "cell_type": "code",
   "execution_count": 0,
   "metadata": {
    "colab": {},
    "colab_type": "code",
    "id": "StuzwmrGB9vu"
   },
   "outputs": [],
   "source": [
    "# produit matriciel @ ou array1.dot(array2)\n",
    "\n"
   ]
  },
  {
   "cell_type": "code",
   "execution_count": 0,
   "metadata": {
    "colab": {},
    "colab_type": "code",
    "id": "3LzgzSXVGmnZ"
   },
   "outputs": [],
   "source": [
    "#Transposé .T ou np.transpose()\n",
    "\n"
   ]
  },
  {
   "cell_type": "code",
   "execution_count": 0,
   "metadata": {
    "colab": {},
    "colab_type": "code",
    "id": "Zch3RCsvG2Pw"
   },
   "outputs": [],
   "source": [
    "#Matrice inversible https://fr.wikipedia.org/wiki/Matrice_inversible\n",
    "#np.linalg.inv(matrix) matrix carré a non singulière\n",
    "\n"
   ]
  },
  {
   "cell_type": "markdown",
   "metadata": {
    "colab_type": "text",
    "id": "4EHl27Kj_HpT"
   },
   "source": [
    "# Pandas\n",
    "\n",
    "Librarie de manipulation et d'analyse de données pour Python.\n",
    "\n",
    "<a href=\"https://pandas.pydata.org/docs/user_guide/index.html\" target=\"_blank\" >Documentation  </a>\n",
    "\n",
    "<a href=\"https://pandas.pydata.org/\" target=\"_blank\" ><img  src=\"https://upload.wikimedia.org/wikipedia/commons/thumb/e/ed/Pandas_logo.svg/1200px-Pandas_logo.svg.png\" width=\"400\" height=\"auto\"/></a>"
   ]
  },
  {
   "cell_type": "markdown",
   "metadata": {
    "colab_type": "text",
    "id": "rdIsASv3ILsd"
   },
   "source": [
    "\n",
    "<img  src=\"https://pandas.pydata.org/docs/_images/01_table_dataframe.svg\" width=\"400\" height=\"auto\"/>\n",
    "\n",
    "\n",
    "<img  src=\"https://pandas.pydata.org/docs/_images/02_io_readwrite.svg\" width=\"400\" height=\"auto\"/>\n"
   ]
  },
  {
   "cell_type": "code",
   "execution_count": 0,
   "metadata": {
    "colab": {},
    "colab_type": "code",
    "id": "e6cPnKxe_eAs"
   },
   "outputs": [],
   "source": [
    "#Les objets en pandas - Series et DataFrame\n",
    "#pd.Series(list/array,index=[...])\n",
    "#pd.Series(dict)\n",
    "#pd.DataFrame(array, index=[...])\n",
    "#pd.DataFrame(dict avec list comme value )\n",
    "import pandas as pd\n",
    "\n",
    "\n"
   ]
  },
  {
   "cell_type": "code",
   "execution_count": 0,
   "metadata": {
    "colab": {},
    "colab_type": "code",
    "id": "D3S2r-UNMmFf"
   },
   "outputs": [],
   "source": [
    "#df.head(n) afficher les n première lignes de notre DF\n",
    "\n",
    "#pd.read_csv('https://raw.githubusercontent.com/CSSEGISandData/COVID-19/master/csse_covid_19_data/csse_covid_19_daily_reports/04-19-2020.csv')\n"
   ]
  },
  {
   "cell_type": "code",
   "execution_count": 0,
   "metadata": {
    "colab": {},
    "colab_type": "code",
    "id": "ed1Eop4UKYuK"
   },
   "outputs": [],
   "source": [
    "#set_index(), reset_index()index=[], reindex(columns=[]), définir un index\n",
    "\n",
    "\n"
   ]
  },
  {
   "cell_type": "code",
   "execution_count": 0,
   "metadata": {
    "colab": {},
    "colab_type": "code",
    "id": "0WRJSYgCLUlT"
   },
   "outputs": [],
   "source": [
    "#renommer des colonnes et index df.rename(columns={old_name:new_name}, index={old_name:new_name}) \n",
    "\n"
   ]
  },
  {
   "cell_type": "code",
   "execution_count": 0,
   "metadata": {
    "colab": {},
    "colab_type": "code",
    "id": "qYcISGA6Mwun"
   },
   "outputs": [],
   "source": [
    "#accéder aux données\n",
    "# boolean , selectionner certaines données"
   ]
  },
  {
   "cell_type": "code",
   "execution_count": 0,
   "metadata": {
    "colab": {},
    "colab_type": "code",
    "id": "wDeM2vneJY1F"
   },
   "outputs": [],
   "source": [
    "\n",
    "#Series serie[[index]], serie[ : numéro de ligne]\n",
    "#dataframe accéder à une colone df[colonne]\n",
    "\n"
   ]
  },
  {
   "cell_type": "code",
   "execution_count": 0,
   "metadata": {
    "colab": {},
    "colab_type": "code",
    "id": "Zp5fH-1MKPVE"
   },
   "outputs": [],
   "source": [
    "#df.loc[nom_index] accéder à la ligne qui correspond a l'index\n",
    "#df.iloc[numéro_ligne] accede aux valeurs d'un certain numéro de ligne\n",
    "\n"
   ]
  },
  {
   "cell_type": "code",
   "execution_count": 0,
   "metadata": {
    "colab": {},
    "colab_type": "code",
    "id": "3cJkmmfqK4vg"
   },
   "outputs": [],
   "source": [
    "#loc et iloc peuvent prendre plusieurs dimensions\n",
    "#df.loc[nom_index, colonne] loc et iloc peuvent prendre plusieurs dimensions\n",
    "\n"
   ]
  },
  {
   "cell_type": "code",
   "execution_count": 0,
   "metadata": {
    "colab": {},
    "colab_type": "code",
    "id": "xOM-VXKNJ1nl"
   },
   "outputs": [],
   "source": [
    "#modifier les données\n",
    "#df.insert(position, nom_colonne, valeurs) insérer une colonne\n",
    "\n"
   ]
  },
  {
   "cell_type": "code",
   "execution_count": 0,
   "metadata": {
    "colab": {},
    "colab_type": "code",
    "id": "7_2ogCqO_eGR"
   },
   "outputs": [],
   "source": [
    "\n"
   ]
  },
  {
   "cell_type": "code",
   "execution_count": 0,
   "metadata": {
    "colab": {},
    "colab_type": "code",
    "id": "xKhoo1PZ_ePO"
   },
   "outputs": [],
   "source": [
    "#fonctions utiles df.summary(), df.info(), df.describe(), serie.value_counts()\n",
    "\n"
   ]
  },
  {
   "cell_type": "code",
   "execution_count": 0,
   "metadata": {
    "colab": {},
    "colab_type": "code",
    "id": "RwEWVhc0LhJH"
   },
   "outputs": [],
   "source": [
    "# df.copy() copier votre df pour le dupliquer !\n",
    "\n"
   ]
  }
 ],
 "metadata": {
  "colab": {
   "collapsed_sections": [],
   "name": "#6 - Les libraries Numpy et Pandas",
   "provenance": []
  },
  "kernelspec": {
   "display_name": "Python 3",
   "language": "python",
   "name": "python3"
  },
  "language_info": {
   "codemirror_mode": {
    "name": "ipython",
    "version": 3
   },
   "file_extension": ".py",
   "mimetype": "text/x-python",
   "name": "python",
   "nbconvert_exporter": "python",
   "pygments_lexer": "ipython3",
   "version": "3.8.3"
  }
 },
 "nbformat": 4,
 "nbformat_minor": 1
}
