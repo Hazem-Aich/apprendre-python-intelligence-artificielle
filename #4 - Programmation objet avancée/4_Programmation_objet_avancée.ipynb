{
 "cells": [
  {
   "cell_type": "markdown",
   "metadata": {
    "colab_type": "text",
    "id": "a2c7ZxxerDat"
   },
   "source": [
    "\n",
    "# https://colab.research.google.com/\n",
    "---\n",
    "\n"
   ]
  },
  {
   "cell_type": "markdown",
   "metadata": {
    "colab_type": "text",
    "id": "HzCReroprCAg"
   },
   "source": [
    "# Apprendre à coder en Python pour l'Intelligence Artificielle\n"
   ]
  },
  {
   "cell_type": "markdown",
   "metadata": {
    "colab_type": "text",
    "id": "BI03F4Bosdbo"
   },
   "source": [
    "# Encapsulation\n",
    "Empêcher l'accées aux données d'un objet par un autre moyen que ceux définit."
   ]
  },
  {
   "cell_type": "code",
   "execution_count": 55,
   "metadata": {
    "colab": {
     "base_uri": "https://localhost:8080/",
     "height": 202
    },
    "colab_type": "code",
    "id": "wLWIF-Tcs1d7",
    "outputId": "eba6d6c3-ba85-4215-9475-a140f4a034b2"
   },
   "outputs": [
    {
     "ename": "AttributeError",
     "evalue": "ignored",
     "output_type": "error",
     "traceback": [
      "\u001b[0;31m---------------------------------------------------------------------------\u001b[0m",
      "\u001b[0;31mAttributeError\u001b[0m                            Traceback (most recent call last)",
      "\u001b[0;32m<ipython-input-55-2e8288b93348>\u001b[0m in \u001b[0;36m<module>\u001b[0;34m()\u001b[0m\n\u001b[1;32m      8\u001b[0m \u001b[0mtoto_le_lion\u001b[0m \u001b[0;34m=\u001b[0m \u001b[0mAnimal\u001b[0m\u001b[0;34m(\u001b[0m\u001b[0;34m'Lion'\u001b[0m\u001b[0;34m)\u001b[0m \u001b[0;31m#Lion est une instance de ma classe Animal\u001b[0m\u001b[0;34m\u001b[0m\u001b[0;34m\u001b[0m\u001b[0m\n\u001b[1;32m      9\u001b[0m \u001b[0;34m\u001b[0m\u001b[0m\n\u001b[0;32m---> 10\u001b[0;31m \u001b[0mprint\u001b[0m\u001b[0;34m(\u001b[0m\u001b[0mtoto_le_lion\u001b[0m\u001b[0;34m.\u001b[0m\u001b[0m__race\u001b[0m\u001b[0;34m)\u001b[0m\u001b[0;34m\u001b[0m\u001b[0;34m\u001b[0m\u001b[0m\n\u001b[0m",
      "\u001b[0;31mAttributeError\u001b[0m: 'Animal' object has no attribute '__race'"
     ]
    }
   ],
   "source": [
    "## definir un attribut privé : __ATTRIBUT\n",
    "class Animal:\n",
    "\n",
    "    def __init__(self,race):\n",
    "        self.__race = race\n",
    "\n",
    "\n",
    "toto_le_lion = Animal('Lion') #Lion est une instance de ma classe Animal\n",
    "\n",
    "print(toto_le_lion.__race)"
   ]
  },
  {
   "cell_type": "code",
   "execution_count": 57,
   "metadata": {
    "colab": {
     "base_uri": "https://localhost:8080/",
     "height": 52
    },
    "colab_type": "code",
    "id": "YqHSbAF-tLC4",
    "outputId": "269edbb1-4556-4a36-a423-56014bdef94c"
   },
   "outputs": [
    {
     "name": "stdout",
     "output_type": "stream",
     "text": [
      "Lion\n",
      "Lion\n"
     ]
    }
   ],
   "source": [
    "## Bonne pratique (coucou Java) définir des setteurs: get_attribut(self,attribut)\n",
    "class Animal:\n",
    "\n",
    "    def __init__(self,race):\n",
    "        self.__race = race\n",
    "    \n",
    "    def get_race(self):\n",
    "        return self.__race\n",
    "\n",
    "toto_le_lion = Animal('Lion') #Lion est une instance de ma classe Animal\n",
    "print(toto_le_lion.get_race())\n",
    "toto_le_lion.__race = 'Lion de la savane'\n",
    "print(toto_le_lion.get_race()) #On ne peut pas modifier encore l'attribut privé"
   ]
  },
  {
   "cell_type": "code",
   "execution_count": 59,
   "metadata": {
    "colab": {
     "base_uri": "https://localhost:8080/",
     "height": 52
    },
    "colab_type": "code",
    "id": "Z64cB6IzFjYg",
    "outputId": "703391d9-f836-4471-b8b5-c4e36b0f4a64"
   },
   "outputs": [
    {
     "name": "stdout",
     "output_type": "stream",
     "text": [
      "Lion\n",
      "Lion de la savane\n"
     ]
    }
   ],
   "source": [
    "## Bonne pratique (coucou Java) définir des setteurs: set_attribut(self,attribut)\n",
    "class Animal:\n",
    "    def __init__(self,race):\n",
    "        self.__race = race\n",
    "    \n",
    "    def get_race(self):\n",
    "        return self.__race\n",
    "\n",
    "    def set_race(self,nouvelle_race):\n",
    "        self.__race = nouvelle_race\n",
    "        return\n",
    "\n",
    "toto_le_lion = Animal('Lion') #Lion est une instance de ma classe Animal\n",
    "\n",
    "print(toto_le_lion.get_race())\n",
    "toto_le_lion.set_race('Lion de la savane')\n",
    "\n",
    "print(toto_le_lion.get_race())"
   ]
  },
  {
   "cell_type": "markdown",
   "metadata": {
    "colab_type": "text",
    "id": "2lhwCTsY0bN4"
   },
   "source": [
    "# Héritage"
   ]
  },
  {
   "cell_type": "code",
   "execution_count": 91,
   "metadata": {
    "colab": {
     "base_uri": "https://localhost:8080/",
     "height": 52
    },
    "colab_type": "code",
    "id": "rEClPl7I0znf",
    "outputId": "cf10f64d-ab0c-4510-db9a-9998ece04461"
   },
   "outputs": [
    {
     "name": "stdout",
     "output_type": "stream",
     "text": [
      "gerard Lion de la savane\n",
      "Je viens de manger de la viande\n"
     ]
    }
   ],
   "source": [
    "# super().__init__(), issubclass(subclass,class) et isinstance(instance, class)\n",
    "class Felin:\n",
    "    nombre_de_patte = 4\n",
    "    carnivore = True\n",
    "\n",
    "    def __init__(self,couleur):\n",
    "        self.__couleur = couleur\n",
    "\n",
    "    def get_race(self):\n",
    "        return self.__couleur \n",
    "\n",
    "    def set_race(self,couleur):\n",
    "        self.__couleur = couleur\n",
    "        return\n",
    "\n",
    "    def manger_viande(self):\n",
    "        print('Je viens de manger de la viande')\n",
    "\n",
    "class Lion(Felin): #La classe Lion devient classe fils d'Animal\n",
    "    def __init__(self,race,name,couleur):\n",
    "        super().__init__(couleur)\n",
    "        self.__race = race\n",
    "        self.name = name\n",
    "    \n",
    "    def get_race(self):\n",
    "        return self.__race\n",
    "\n",
    "    def set_race(self,nouvelle_race):\n",
    "        self.__race = nouvelle_race\n",
    "        return \n",
    "\n",
    "class Girafe:\n",
    "    race = 'Girafe'\n",
    "\n",
    "gerard_le_lion = Lion('Lion de la savane', 'gerard','rouge') #__init__() missing 1 required positional argument: 'couleur' Il faut faire attention a définir les attributs de la classe père !\n",
    "\n",
    "print(gerard_le_lion.name, gerard_le_lion.get_race())\n",
    "gerard_le_lion.manger_viande()"
   ]
  },
  {
   "cell_type": "code",
   "execution_count": 89,
   "metadata": {
    "colab": {
     "base_uri": "https://localhost:8080/",
     "height": 34
    },
    "colab_type": "code",
    "id": "aB3SWVmrPHIP",
    "outputId": "451d000f-862d-400e-b833-5c855b0ecadb"
   },
   "outputs": [
    {
     "data": {
      "text/plain": [
       "True"
      ]
     },
     "execution_count": 89,
     "metadata": {
      "tags": []
     },
     "output_type": "execute_result"
    }
   ],
   "source": [
    "isinstance(gerard_le_lion, Lion)"
   ]
  },
  {
   "cell_type": "code",
   "execution_count": 90,
   "metadata": {
    "colab": {
     "base_uri": "https://localhost:8080/",
     "height": 34
    },
    "colab_type": "code",
    "id": "ayn6A7u4PNax",
    "outputId": "07f0281c-d571-49ad-c5d5-f14aabe93387"
   },
   "outputs": [
    {
     "data": {
      "text/plain": [
       "True"
      ]
     },
     "execution_count": 90,
     "metadata": {
      "tags": []
     },
     "output_type": "execute_result"
    }
   ],
   "source": [
    "issubclass(Lion,Felin)"
   ]
  },
  {
   "cell_type": "code",
   "execution_count": 92,
   "metadata": {
    "colab": {
     "base_uri": "https://localhost:8080/",
     "height": 34
    },
    "colab_type": "code",
    "id": "TkkLV4KLPXHk",
    "outputId": "adda9792-b4d3-4ef7-e763-ac2285d677b0"
   },
   "outputs": [
    {
     "data": {
      "text/plain": [
       "False"
      ]
     },
     "execution_count": 92,
     "metadata": {
      "tags": []
     },
     "output_type": "execute_result"
    }
   ],
   "source": [
    "issubclass(Girafe,Felin)"
   ]
  },
  {
   "cell_type": "markdown",
   "metadata": {
    "colab_type": "text",
    "id": "txQ99RUUzMPK"
   },
   "source": [
    "# Methode et attributs d'instance, de classe, static"
   ]
  },
  {
   "cell_type": "code",
   "execution_count": 73,
   "metadata": {
    "colab": {
     "base_uri": "https://localhost:8080/",
     "height": 52
    },
    "colab_type": "code",
    "id": "wHm0o4Wxt2FK",
    "outputId": "80265689-039b-4d48-b0f9-c123deb6ba33"
   },
   "outputs": [
    {
     "name": "stdout",
     "output_type": "stream",
     "text": [
      "4 4\n",
      "3 3\n"
     ]
    }
   ],
   "source": [
    "class Felin:\n",
    "    nombre_de_patte = 4 #CEST UN ATTRIBUT DE CLASSE\n",
    "    carnivore = True #CEST UN ATTRIBUT DE CLASSE\n",
    "\n",
    "    def __init__(self,couleur):\n",
    "        self.__couleur = couleur\n",
    "\n",
    "    def get_race(self):\n",
    "        return self.__couleur \n",
    "\n",
    "    def set_race(self,couleur):\n",
    "        self.__couleur = couleur\n",
    "        return\n",
    "\n",
    "    def manger_viande(self):\n",
    "        print('Je viens de manger de la viande')\n",
    "\n",
    "class Lion(Felin): #La classe Lion devient classe fils d'Animal\n",
    "    def __init__(self,race,name,couleur):\n",
    "        super().__init__(couleur)\n",
    "        self.__race = race\n",
    "        self.name = name\n",
    "    \n",
    "    def get_race(self):\n",
    "        return self.__race\n",
    "\n",
    "    def set_race(self,nouvelle_race):\n",
    "        self.__race = nouvelle_race\n",
    "        return \n",
    "\n",
    "gerard_le_lion = Lion('Lion de la savane', 'gerard','beige') #__init__() missing 1 required positional argument: 'couleur' Il faut faire attention a définir les attributs de la classe père !\n",
    "hakim_le_lion = Lion('Lion des montagnes', 'hakim','marron') #__init__() missing 1 required positional argument: 'couleur' Il faut faire attention a définir les attributs de la classe père !\n",
    "\n",
    "print(gerard_le_lion.nombre_de_patte,hakim_le_lion.nombre_de_patte)\n",
    "\n",
    "Felin.nombre_de_patte = 3\n",
    "print(gerard_le_lion.nombre_de_patte,hakim_le_lion.nombre_de_patte)"
   ]
  },
  {
   "cell_type": "code",
   "execution_count": 0,
   "metadata": {
    "colab": {},
    "colab_type": "code",
    "id": "IgR2pZ29uIfR"
   },
   "outputs": [],
   "source": [
    "## Methode de class @classmethod Point à la classe et non pas à l'instance de la classe (ie Objet = instance d'une classe)\n",
    "## Méthode Static Permet de créer une fonction rangé dans une class à la place d'un module\n",
    "\n",
    "class Person:\n",
    "    x = 0\n",
    "    def __init__(self):\n",
    "        pass\n",
    "\n",
    "    @classmethod\n",
    "    def count(cls):\n",
    "        cls.x = cls.x+1\n",
    "        return 'class method called', cls.x\n",
    "\n",
    "    @staticmethod\n",
    "    def static():\n",
    "        return 'static method called'\n",
    "\n",
    "    #count = classmethod(count)\n",
    "    #static = staticmethod(static)\n",
    "\n",
    "a = Person()\n",
    "b = Person()\n"
   ]
  },
  {
   "cell_type": "code",
   "execution_count": 48,
   "metadata": {
    "colab": {
     "base_uri": "https://localhost:8080/",
     "height": 34
    },
    "colab_type": "code",
    "id": "-AlxczzEwBUp",
    "outputId": "4dd89338-722e-4c14-b2b2-a436a6bddde6"
   },
   "outputs": [
    {
     "data": {
      "text/plain": [
       "0"
      ]
     },
     "execution_count": 48,
     "metadata": {
      "tags": []
     },
     "output_type": "execute_result"
    }
   ],
   "source": [
    "a.x"
   ]
  },
  {
   "cell_type": "code",
   "execution_count": 49,
   "metadata": {
    "colab": {
     "base_uri": "https://localhost:8080/",
     "height": 34
    },
    "colab_type": "code",
    "id": "qTrsCiE8wDhk",
    "outputId": "ff26f3b6-a583-4371-e74e-278bccaf2dc4"
   },
   "outputs": [
    {
     "data": {
      "text/plain": [
       "('class method called', 1)"
      ]
     },
     "execution_count": 49,
     "metadata": {
      "tags": []
     },
     "output_type": "execute_result"
    }
   ],
   "source": [
    "Person.count()"
   ]
  },
  {
   "cell_type": "code",
   "execution_count": 50,
   "metadata": {
    "colab": {
     "base_uri": "https://localhost:8080/",
     "height": 34
    },
    "colab_type": "code",
    "id": "-cW28uUkwFf4",
    "outputId": "7a5dd0b3-4d09-4661-d17f-6e055dd1beb9"
   },
   "outputs": [
    {
     "data": {
      "text/plain": [
       "1"
      ]
     },
     "execution_count": 50,
     "metadata": {
      "tags": []
     },
     "output_type": "execute_result"
    }
   ],
   "source": [
    "a.x"
   ]
  },
  {
   "cell_type": "code",
   "execution_count": 44,
   "metadata": {
    "colab": {
     "base_uri": "https://localhost:8080/",
     "height": 34
    },
    "colab_type": "code",
    "id": "UMZlKjibyG7Q",
    "outputId": "dca13894-34e5-45b4-c4f1-a9798fd89643"
   },
   "outputs": [
    {
     "data": {
      "text/plain": [
       "1"
      ]
     },
     "execution_count": 44,
     "metadata": {
      "tags": []
     },
     "output_type": "execute_result"
    }
   ],
   "source": [
    "b.x"
   ]
  },
  {
   "cell_type": "code",
   "execution_count": 86,
   "metadata": {
    "colab": {
     "base_uri": "https://localhost:8080/",
     "height": 122
    },
    "colab_type": "code",
    "id": "qdqTLqedLYio",
    "outputId": "1dfdee9c-261e-4281-fd4a-0c864105d2e4"
   },
   "outputs": [
    {
     "name": "stdout",
     "output_type": "stream",
     "text": [
      "100 100\n",
      "100\n",
      "90 90\n",
      "90\n",
      "5\n",
      "je suis un Félin\n"
     ]
    }
   ],
   "source": [
    "class Felin:\n",
    "    nombre_de_patte = 4 #CEST UN ATTRIBUT DE CLASSE\n",
    "    carnivore = True #CEST UN ATTRIBUT DE CLASSE\n",
    "    energie=100\n",
    "\n",
    "    def __init__(self,couleur): #CONSTRUCTEUR D'ATTRIBUT D'INSTANCE\n",
    "        self.__couleur = couleur\n",
    "\n",
    "    def __str__(self):\n",
    "        return 'je suis un Félin'\n",
    "\n",
    "    def get_race(self):\n",
    "        return self.__couleur \n",
    "\n",
    "    def set_race(self,couleur):\n",
    "        self.__couleur = couleur\n",
    "        return\n",
    "\n",
    "    def manger_viande(self):\n",
    "        print('Je viens de manger de la viande')\n",
    "    \n",
    "    @classmethod\n",
    "    def tout_les_felins_courent(cls):\n",
    "        cls.energie = cls.energie - 10\n",
    "    \n",
    "    #@staticmethod\n",
    "    def nombre_de_felins(nombre_de_lion, nombre_de_tigre):\n",
    "        return nombre_de_lion+nombre_de_tigre\n",
    "\n",
    "    #1er méthode pour définir une méthode de class\n",
    "    #tout_les_felins_courent = classmethod(tout_les_felins_courent) \n",
    "\n",
    "    #1er méthode pour définir une static méthod\n",
    "    nombre_de_felins = staticmethod(nombre_de_felins) \n",
    "\n",
    "\n",
    "\n",
    "class Lion(Felin): #La classe Lion devient classe fils d'Animal\n",
    "    def __init__(self,race,name,couleur):\n",
    "        super().__init__(couleur)\n",
    "        self.__race = race\n",
    "        self.name = name\n",
    "    \n",
    "    def get_race(self):\n",
    "        return self.__race\n",
    "\n",
    "    def set_race(self,nouvelle_race):\n",
    "        self.__race = nouvelle_race\n",
    "        return\n",
    "\n",
    "\n",
    "gerard_le_lion = Lion('Lion de la savane', 'gerard','beige') #__init__() missing 1 required positional argument: 'couleur' Il faut faire attention a définir les attributs de la classe père !\n",
    "hakim_le_lion = Lion('Lion des montagnes', 'hakim','marron') #__init__() missing 1 required positional argument: 'couleur' Il faut faire attention a définir les attributs de la classe père !\n",
    "\n",
    "print(gerard_le_lion.energie,hakim_le_lion.energie)\n",
    "print(Felin.energie)\n",
    "\n",
    "Felin.tout_les_felins_courent()\n",
    "\n",
    "print(gerard_le_lion.energie,hakim_le_lion.energie)\n",
    "print(Felin.energie)\n",
    "\n",
    "print(Felin.nombre_de_felins(3, 2))\n",
    "\n",
    "print(gerard_le_lion)"
   ]
  },
  {
   "cell_type": "markdown",
   "metadata": {
    "colab_type": "text",
    "id": "--M7-WJ1zUeN"
   },
   "source": [
    "# Fonction dir, attribut __ dict __ "
   ]
  },
  {
   "cell_type": "code",
   "execution_count": 82,
   "metadata": {
    "colab": {
     "base_uri": "https://localhost:8080/",
     "height": 615
    },
    "colab_type": "code",
    "id": "Mv6vgTovzvKS",
    "outputId": "ef00fd24-8a3f-409d-af55-4e2014a81911"
   },
   "outputs": [
    {
     "data": {
      "text/plain": [
       "['__class__',\n",
       " '__delattr__',\n",
       " '__dict__',\n",
       " '__dir__',\n",
       " '__doc__',\n",
       " '__eq__',\n",
       " '__format__',\n",
       " '__ge__',\n",
       " '__getattribute__',\n",
       " '__gt__',\n",
       " '__hash__',\n",
       " '__init__',\n",
       " '__init_subclass__',\n",
       " '__le__',\n",
       " '__lt__',\n",
       " '__module__',\n",
       " '__ne__',\n",
       " '__new__',\n",
       " '__reduce__',\n",
       " '__reduce_ex__',\n",
       " '__repr__',\n",
       " '__setattr__',\n",
       " '__sizeof__',\n",
       " '__str__',\n",
       " '__subclasshook__',\n",
       " '__weakref__',\n",
       " 'carnivore',\n",
       " 'energie',\n",
       " 'get_race',\n",
       " 'manger_viande',\n",
       " 'nombre_de_felins',\n",
       " 'nombre_de_patte',\n",
       " 'set_race',\n",
       " 'tout_les_felins_courent']"
      ]
     },
     "execution_count": 82,
     "metadata": {
      "tags": []
     },
     "output_type": "execute_result"
    }
   ],
   "source": [
    "# Fonction dir (renvoi une liste contenant les attributs et méthodes)\n",
    "\n",
    "\n",
    "dir(Felin)"
   ]
  },
  {
   "cell_type": "code",
   "execution_count": 87,
   "metadata": {
    "colab": {
     "base_uri": "https://localhost:8080/",
     "height": 70
    },
    "colab_type": "code",
    "id": "j_TIx6VJzzNR",
    "outputId": "44a3de80-6545-4763-d44b-d3c1ef66300f"
   },
   "outputs": [
    {
     "data": {
      "text/plain": [
       "{'_Felin__couleur': 'beige',\n",
       " '_Lion__race': 'Lion de la savane',\n",
       " 'name': 'gerard'}"
      ]
     },
     "execution_count": 87,
     "metadata": {
      "tags": []
     },
     "output_type": "execute_result"
    }
   ],
   "source": [
    " #attribut __dict__ (permet d'accéder aux attributs par un dictionnaire)\n",
    "\n",
    "gerard_le_lion.__dict__\n"
   ]
  },
  {
   "cell_type": "markdown",
   "metadata": {
    "colab_type": "text",
    "id": "BXGP3_QP2Hyy"
   },
   "source": [
    "#Petite exercice coder une savane\n",
    "\n",
    "<p align=\"center\">\n",
    "<a href=\"https://youtu.be/_J80GQoVT-4\" target=\"_blank\" ><img  src=\"https://lh3.googleusercontent.com/proxy/p1_D1wdmSrmfhpm3Ur_NsnntBjGRc3v7-7Vc_AKmbNwvHJv3TKNdx9E4JifkM-FFP02rY1ojajspssFflyqScPNkl5CHPGU2TwAPtl6_L8eKJoUW3ZmguAyYhB1JyHQHHQ\" width=\"400\" height=\"auto\"/></a>\n",
    "</p>\n"
   ]
  },
  {
   "cell_type": "code",
   "execution_count": 0,
   "metadata": {
    "colab": {},
    "colab_type": "code",
    "id": "YBI7BvxD2H63"
   },
   "outputs": [],
   "source": []
  }
 ],
 "metadata": {
  "colab": {
   "collapsed_sections": [],
   "name": "#4 - Programmation objet avancée",
   "provenance": []
  },
  "kernelspec": {
   "display_name": "Python 3",
   "language": "python",
   "name": "python3"
  },
  "language_info": {
   "codemirror_mode": {
    "name": "ipython",
    "version": 3
   },
   "file_extension": ".py",
   "mimetype": "text/x-python",
   "name": "python",
   "nbconvert_exporter": "python",
   "pygments_lexer": "ipython3",
   "version": "3.8.3"
  }
 },
 "nbformat": 4,
 "nbformat_minor": 1
}
